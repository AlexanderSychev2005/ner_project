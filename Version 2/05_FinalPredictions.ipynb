{
 "cells": [
  {
   "cell_type": "code",
   "execution_count": 5,
   "id": "b0eb9a40-864a-4964-a1a8-14356788fcb0",
   "metadata": {},
   "outputs": [],
   "source": [
    "import cv2\n",
    "import predictions as pred"
   ]
  },
  {
   "cell_type": "code",
   "execution_count": 6,
   "id": "d484ce09-9b6c-413e-89d6-b476c48d589e",
   "metadata": {},
   "outputs": [],
   "source": [
    "img = cv2.imread('./data/242.jpeg')\n",
    "\n",
    "cv2.namedWindow('original', cv2.WINDOW_NORMAL)\n",
    "cv2.imshow('original', img)\n",
    "cv2.waitKey(0)\n",
    "cv2.destroyAllWindows()"
   ]
  },
  {
   "cell_type": "code",
   "execution_count": 9,
   "id": "b7bbd6d5-4692-43a1-81fc-5bd7a569e293",
   "metadata": {},
   "outputs": [
    {
     "name": "stdout",
     "output_type": "stream",
     "text": [
      "Dr. T. S. Reddy Senior Consultant Traffic Transportation LEA Associates South Asia Pvt. Ltd. LEAdership in Consulting Engineers Planners engineering HL No 1-4-879/54/1A, Street No. 8, p lannin g Near Vijaya Bank, Lower Tank Bund, Gandhinagar, Hyderabad-500080 A.P. India solutions Tel 91-40-66747 122 / 66747135 . Mobile 91-91778 82230 Email tsr@lasaindia.com ————— limmappagari@ymait.com _ ALEA Group company Website - www.lasaindia.com\n"
     ]
    }
   ],
   "source": [
    "img_results, entities = pred.getPredictions(img)\n",
    "\n",
    "cv2.namedWindow('predictions', cv2.WINDOW_NORMAL)\n",
    "cv2.imshow('predictions', img_results)\n",
    "cv2.waitKey(0)\n",
    "cv2.destroyAllWindows()"
   ]
  },
  {
   "cell_type": "code",
   "execution_count": 8,
   "id": "502797dc-8ec3-4542-944d-82b83671b9d0",
   "metadata": {},
   "outputs": [
    {
     "data": {
      "text/plain": [
       "{'NAME': ['Dr T S Reddy'],\n",
       " 'ORG': ['Lea Associates South Asia Pvt Ltd'],\n",
       " 'DES': ['Senior Consultant'],\n",
       " 'PHONE': ['91', '66747135', '9182230'],\n",
       " 'EMAIL': ['tsr@lasaindia.com', 'limmappagari@ymait.com'],\n",
       " 'WEB': ['www.lasaindia.com']}"
      ]
     },
     "execution_count": 8,
     "metadata": {},
     "output_type": "execute_result"
    }
   ],
   "source": [
    "entities"
   ]
  },
  {
   "cell_type": "code",
   "execution_count": null,
   "id": "34c984d5-9aad-46f6-b211-2c27f2d91946",
   "metadata": {},
   "outputs": [],
   "source": []
  }
 ],
 "metadata": {
  "kernelspec": {
   "display_name": "Python 3 (ipykernel)",
   "language": "python",
   "name": "python3"
  },
  "language_info": {
   "codemirror_mode": {
    "name": "ipython",
    "version": 3
   },
   "file_extension": ".py",
   "mimetype": "text/x-python",
   "name": "python",
   "nbconvert_exporter": "python",
   "pygments_lexer": "ipython3",
   "version": "3.12.4"
  }
 },
 "nbformat": 4,
 "nbformat_minor": 5
}
